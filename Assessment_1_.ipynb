{
  "nbformat": 4,
  "nbformat_minor": 0,
  "metadata": {
    "colab": {
      "provenance": [],
      "toc_visible": true,
      "authorship_tag": "ABX9TyPoIde9XTGArLGPsZ3U9Q5z",
      "include_colab_link": true
    },
    "kernelspec": {
      "name": "python3",
      "display_name": "Python 3"
    },
    "language_info": {
      "name": "python"
    }
  },
  "cells": [
    {
      "cell_type": "markdown",
      "metadata": {
        "id": "view-in-github",
        "colab_type": "text"
      },
      "source": [
        "<a href=\"https://colab.research.google.com/github/SAKETH-ADILLA/Machine-Learning/blob/main/Assessment_1_.ipynb\" target=\"_parent\"><img src=\"https://colab.research.google.com/assets/colab-badge.svg\" alt=\"Open In Colab\"/></a>"
      ]
    },
    {
      "cell_type": "markdown",
      "source": [
        "#First Assessment"
      ],
      "metadata": {
        "id": "mZNQD3ycZtx_"
      }
    },
    {
      "cell_type": "code",
      "execution_count": null,
      "metadata": {
        "id": "2QZDE-2-Yp3X"
      },
      "outputs": [],
      "source": []
    },
    {
      "cell_type": "markdown",
      "source": [
        "##Perform arithmetic operations on NumPy arrays."
      ],
      "metadata": {
        "id": "Xagd1kvFZZx7"
      }
    },
    {
      "cell_type": "code",
      "source": [
        "import numpy as np\n",
        "arr1 = np.array([1, 2, 3, 4])\n",
        "arr2 = np.array([5, 6, 7, 8])\n",
        "add_result = arr1 + arr2\n",
        "print(\"Addition:\", add_result)\n",
        "sub_result = arr1 - arr2\n",
        "print(\"Subtraction:\", sub_result)\n",
        "mul_result = arr1 * arr2\n",
        "print(\"Multiplication:\", mul_result)\n",
        "div_result = arr1 / arr2\n",
        "print(\"Division:\", div_result)"
      ],
      "metadata": {
        "colab": {
          "base_uri": "https://localhost:8080/"
        },
        "id": "EmTmMfesZi1H",
        "outputId": "04412f0c-3430-40c9-a1f0-2c9ca90b83c2"
      },
      "execution_count": 1,
      "outputs": [
        {
          "output_type": "stream",
          "name": "stdout",
          "text": [
            "Addition: [ 6  8 10 12]\n",
            "Subtraction: [-4 -4 -4 -4]\n",
            "Multiplication: [ 5 12 21 32]\n",
            "Division: [0.2        0.33333333 0.42857143 0.5       ]\n"
          ]
        }
      ]
    },
    {
      "cell_type": "markdown",
      "source": [
        "##Write a script to compute the mean and standard deviation of a NumPy array.\n"
      ],
      "metadata": {
        "id": "lUukXbpJarIs"
      }
    },
    {
      "cell_type": "code",
      "source": [
        "import numpy as np\n",
        "arr = np.array([10, 20, 30, 40, 50])\n",
        "mean_value = np.mean(arr)\n",
        "print(f\"Mean: {mean_value}\")\n",
        "std_deviation = np.std(arr)\n",
        "print(f\"Standard Deviation: {std_deviation}\")\n"
      ],
      "metadata": {
        "colab": {
          "base_uri": "https://localhost:8080/"
        },
        "id": "yIxv8NCRatdX",
        "outputId": "57e18b81-ec82-468a-94f9-04b6d31ca587"
      },
      "execution_count": 2,
      "outputs": [
        {
          "output_type": "stream",
          "name": "stdout",
          "text": [
            "Mean: 30.0\n",
            "Standard Deviation: 14.142135623730951\n"
          ]
        }
      ]
    },
    {
      "cell_type": "markdown",
      "source": [
        "##Create a NumPy array of integers from 10 to 50 with a step size of 5.\n"
      ],
      "metadata": {
        "id": "Lag88WPUa5LB"
      }
    },
    {
      "cell_type": "code",
      "source": [
        "import numpy as np\n",
        "arr = np.arange(10, 51, 5)\n",
        "print(arr)\n"
      ],
      "metadata": {
        "colab": {
          "base_uri": "https://localhost:8080/"
        },
        "id": "WuyNTopda69Z",
        "outputId": "cb12f37a-aeb8-4e5d-dc78-377973c979d6"
      },
      "execution_count": 3,
      "outputs": [
        {
          "output_type": "stream",
          "name": "stdout",
          "text": [
            "[10 15 20 25 30 35 40 45 50]\n"
          ]
        }
      ]
    },
    {
      "cell_type": "markdown",
      "source": [
        "##Reshape the array into a 2x4 matrix.\n"
      ],
      "metadata": {
        "id": "puXErcrvbHeY"
      }
    },
    {
      "cell_type": "code",
      "source": [
        "import numpy as np\n",
        "arr = np.arange(10, 46 , 5)\n",
        "reshaped_arr = arr.reshape(2, 4)\n",
        "print(reshaped_arr)\n"
      ],
      "metadata": {
        "colab": {
          "base_uri": "https://localhost:8080/"
        },
        "id": "1ch9cm1bbNGn",
        "outputId": "497ecacb-f6e1-4cab-9dbe-577349e5e69e"
      },
      "execution_count": 5,
      "outputs": [
        {
          "output_type": "stream",
          "name": "stdout",
          "text": [
            "[[10 15 20 25]\n",
            " [30 35 40 45]]\n"
          ]
        }
      ]
    },
    {
      "cell_type": "markdown",
      "source": [
        "##Given the array arr = np.array([[1, 2, 3], [4, 5, 6], [7, 8, 9]]):\n",
        "• Extract the sub-matrix containing the last two rows and first two columns.\n",
        "• Replace all elements greater than 4 with 0."
      ],
      "metadata": {
        "id": "tlmQ7QujbreU"
      }
    },
    {
      "cell_type": "code",
      "source": [
        "import numpy as np\n",
        "arr = np.array([[1, 2, 3], [4, 5, 6], [7, 8, 9]])\n",
        "sub_matrix = arr[1:, :2]\n",
        "print(\"Sub-matrix containing the last two rows and first two columns:\")\n",
        "print(sub_matrix)\n",
        "arr[arr > 4] = 0\n",
        "print(\"\\nArray after replacing elements greater than 4 with 0:\")\n",
        "print(arr)\n"
      ],
      "metadata": {
        "colab": {
          "base_uri": "https://localhost:8080/"
        },
        "id": "PHFuTgxmbwOr",
        "outputId": "7ab5e992-9c44-4071-bfdd-c796a689e405"
      },
      "execution_count": 6,
      "outputs": [
        {
          "output_type": "stream",
          "name": "stdout",
          "text": [
            "Sub-matrix containing the last two rows and first two columns:\n",
            "[[4 5]\n",
            " [7 8]]\n",
            "\n",
            "Array after replacing elements greater than 4 with 0:\n",
            "[[1 2 3]\n",
            " [4 0 0]\n",
            " [0 0 0]]\n"
          ]
        }
      ]
    },
    {
      "cell_type": "markdown",
      "source": [
        "##Create two 1D arrays:\n",
        "• a = np.array([1, 2, 3])\n",
        "• b = np.array([4, 5, 6])\n",
        "• Perform element-wise addition, multiplication, and division."
      ],
      "metadata": {
        "id": "OtDvCn02cfWH"
      }
    },
    {
      "cell_type": "code",
      "source": [
        "import numpy as np\n",
        "a = np.array([1, 2, 3])\n",
        "b = np.array([4, 5, 6])\n",
        "add_result = a + b\n",
        "print(\"Element-wise Addition:\", add_result)\n",
        "mul_result = a * b\n",
        "print(\"Element-wise Multiplication:\", mul_result)\n",
        "div_result = a / b\n",
        "print(\"Element-wise Division:\", div_result)\n"
      ],
      "metadata": {
        "colab": {
          "base_uri": "https://localhost:8080/"
        },
        "id": "wegYrIc2cfv4",
        "outputId": "9e1ea7fc-dcec-4a47-c0c0-a5157ab14044"
      },
      "execution_count": 8,
      "outputs": [
        {
          "output_type": "stream",
          "name": "stdout",
          "text": [
            "Element-wise Addition: [5 7 9]\n",
            "Element-wise Multiplication: [ 4 10 18]\n",
            "Element-wise Division: [0.25 0.4  0.5 ]\n"
          ]
        }
      ]
    },
    {
      "cell_type": "markdown",
      "source": [
        "## Create a random NumPy array of size (4, 4). Compute:\n",
        "• Mean of each column.\n",
        "• Maximum value of the entire array.\n",
        "• Sum of all elements."
      ],
      "metadata": {
        "id": "RHtkJPUic0dp"
      }
    },
    {
      "cell_type": "code",
      "source": [
        "import numpy as np\n",
        "arr = np.random.rand(4, 4)\n",
        "mean_value = np.mean(arr)\n",
        "print(\"Mean of the entire array:\", mean_value)\n",
        "max_value = np.max(arr)\n",
        "print(\"Maximum value of the entire array:\", max_value)\n",
        "sum_elements = np.sum(arr)\n",
        "print(\"Sum of all elements:\", sum_elements)\n"
      ],
      "metadata": {
        "colab": {
          "base_uri": "https://localhost:8080/"
        },
        "id": "Ii4-xNABdKpt",
        "outputId": "bf854bcb-5203-41ae-f21f-a004c485745c"
      },
      "execution_count": 11,
      "outputs": [
        {
          "output_type": "stream",
          "name": "stdout",
          "text": [
            "Mean of the entire array: 0.5816356830100999\n",
            "Maximum value of the entire array: 0.8516237255946544\n",
            "Sum of all elements: 9.306170928161599\n"
          ]
        }
      ]
    },
    {
      "cell_type": "markdown",
      "source": [
        "##Given the array arr = np.array([1, 2, 3, 4]), add 10 to each element and multiply the result by 2."
      ],
      "metadata": {
        "id": "PG_xaX7deE48"
      }
    },
    {
      "cell_type": "code",
      "source": [
        "import numpy as np\n",
        "arr = np.array([1, 2, 3, 4])\n",
        "result = (arr + 10) * 2\n",
        "print(\"Result:\", result)\n"
      ],
      "metadata": {
        "colab": {
          "base_uri": "https://localhost:8080/"
        },
        "id": "HJVAUxlIeIPS",
        "outputId": "02130e40-90a6-4719-9a9c-c0fe50b1ad39"
      },
      "execution_count": 12,
      "outputs": [
        {
          "output_type": "stream",
          "name": "stdout",
          "text": [
            "Result: [22 24 26 28]\n"
          ]
        }
      ]
    },
    {
      "cell_type": "markdown",
      "source": [
        "##Perform advanced slicing and indexing on a 3D array.\n",
        "Create a 3D NumPy array arr of shape (3, 4, 5) with random integers ranging from\n",
        "1 to 100. Perform the following:\n",
        "• Extract the second \"layer\" (i.e., the second 2D array) in the first dimension.\n",
        "• Extract the first two rows and the last three columns from each \"layer.\"\n",
        "• Replace all elements divisible by 3 with -1."
      ],
      "metadata": {
        "id": "FvfzgQkSekhd"
      }
    },
    {
      "cell_type": "code",
      "source": [
        "import numpy as np\n",
        "arr = np.random.randint(1, 101, size=(3, 4, 5))\n",
        "print(\"Original Array:\\n\", arr)\n",
        "second_layer = arr[1]\n",
        "print(\"\\nSecond Layer (2D Array at index 1):\\n\", second_layer)\n",
        "first_two_rows_last_three_columns = arr[:, :2, -3:]\n",
        "print(\"\\nFirst Two Rows and Last Three Columns from Each Layer:\\n\", first_two_rows_last_three_columns)\n",
        "arr[arr % 3 == 0] = -1\n",
        "print(\"\\nArray After Replacing Elements Divisible by 3 with -1:\\n\", arr)\n"
      ],
      "metadata": {
        "colab": {
          "base_uri": "https://localhost:8080/"
        },
        "id": "fiJRdrXaeqGH",
        "outputId": "2cb5293b-b961-48d3-9e06-8ef82e1f1b7f"
      },
      "execution_count": 13,
      "outputs": [
        {
          "output_type": "stream",
          "name": "stdout",
          "text": [
            "Original Array:\n",
            " [[[ 62  23  62  37  93]\n",
            "  [ 80  60  50  22  25]\n",
            "  [ 76  72  74  62  19]\n",
            "  [100  36  76  39  13]]\n",
            "\n",
            " [[ 88  43  21  19  14]\n",
            "  [ 12  60  42  76  70]\n",
            "  [ 39  28  54  93  36]\n",
            "  [ 74  44  41   3  68]]\n",
            "\n",
            " [[ 90  51   1  45  59]\n",
            "  [ 76  44  42  93  86]\n",
            "  [100  85  96  41  58]\n",
            "  [ 91   8  84  18  75]]]\n",
            "\n",
            "Second Layer (2D Array at index 1):\n",
            " [[88 43 21 19 14]\n",
            " [12 60 42 76 70]\n",
            " [39 28 54 93 36]\n",
            " [74 44 41  3 68]]\n",
            "\n",
            "First Two Rows and Last Three Columns from Each Layer:\n",
            " [[[62 37 93]\n",
            "  [50 22 25]]\n",
            "\n",
            " [[21 19 14]\n",
            "  [42 76 70]]\n",
            "\n",
            " [[ 1 45 59]\n",
            "  [42 93 86]]]\n",
            "\n",
            "Array After Replacing Elements Divisible by 3 with -1:\n",
            " [[[ 62  23  62  37  -1]\n",
            "  [ 80  -1  50  22  25]\n",
            "  [ 76  -1  74  62  19]\n",
            "  [100  -1  76  -1  13]]\n",
            "\n",
            " [[ 88  43  -1  19  14]\n",
            "  [ -1  -1  -1  76  70]\n",
            "  [ -1  28  -1  -1  -1]\n",
            "  [ 74  44  41  -1  68]]\n",
            "\n",
            " [[ -1  -1   1  -1  59]\n",
            "  [ 76  44  -1  -1  86]\n",
            "  [100  85  -1  41  58]\n",
            "  [ 91   8  -1  -1  -1]]]\n"
          ]
        }
      ]
    },
    {
      "cell_type": "markdown",
      "source": [
        "##Work with broadcasting and advanced operations in NumPy.\n",
        "Create a NumPy array arr of shape (3, 3) with random integers between  \n",
        "1 and 20. Perform the following:\n",
        "• Subtract the mean of each row from its respective elements (row-wise\n",
        "normalization).\n",
        "• Create a new array by squaring all the elements in arr.\n",
        "• Find the indices of the top 3 maximum values in the entire array."
      ],
      "metadata": {
        "id": "jhwPVbBffTkU"
      }
    },
    {
      "cell_type": "code",
      "source": [
        "import numpy as np\n",
        "arr = np.random.randint(1, 21, size=(3, 3))\n",
        "print(\"Original Array:\\n\", arr)\n",
        "row_means = []\n",
        "for row in arr:\n",
        "    row_means.append(np.mean(row))\n",
        "normalized_arr = np.array([row - mean for row, mean in zip(arr, row_means)])\n",
        "print(\"\\nRow-wise Normalized Array:\\n\", normalized_arr)\n",
        "squared_arr = arr * arr\n",
        "print(\"\\nSquared Array:\\n\", squared_arr)\n",
        "flattened_arr = arr.flatten()\n",
        "top_3_indices_flat = np.argsort(flattened_arr)[-3:]\n",
        "top_3_indices = np.unravel_index(top_3_indices_flat, arr.shape)\n",
        "print(\"\\nIndices of Top 3 Maximum Values:\\n\", top_3_indices)\n"
      ],
      "metadata": {
        "colab": {
          "base_uri": "https://localhost:8080/"
        },
        "id": "8FrBUbI-fa8K",
        "outputId": "241485a0-9258-4024-c031-8a02c2602528"
      },
      "execution_count": 14,
      "outputs": [
        {
          "output_type": "stream",
          "name": "stdout",
          "text": [
            "Original Array:\n",
            " [[ 7 13  9]\n",
            " [12  3 15]\n",
            " [19  9 13]]\n",
            "\n",
            "Row-wise Normalized Array:\n",
            " [[-2.66666667  3.33333333 -0.66666667]\n",
            " [ 2.         -7.          5.        ]\n",
            " [ 5.33333333 -4.66666667 -0.66666667]]\n",
            "\n",
            "Squared Array:\n",
            " [[ 49 169  81]\n",
            " [144   9 225]\n",
            " [361  81 169]]\n",
            "\n",
            "Indices of Top 3 Maximum Values:\n",
            " (array([2, 1, 2]), array([2, 2, 0]))\n"
          ]
        }
      ]
    },
    {
      "cell_type": "markdown",
      "source": [],
      "metadata": {
        "id": "ph45WUP6gHNG"
      }
    }
  ]
}