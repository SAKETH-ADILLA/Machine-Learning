{
  "nbformat": 4,
  "nbformat_minor": 0,
  "metadata": {
    "colab": {
      "provenance": [],
      "authorship_tag": "ABX9TyNjM98wp8UlAOnLz5DLH3xI",
      "include_colab_link": true
    },
    "kernelspec": {
      "name": "python3",
      "display_name": "Python 3"
    },
    "language_info": {
      "name": "python"
    }
  },
  "cells": [
    {
      "cell_type": "markdown",
      "metadata": {
        "id": "view-in-github",
        "colab_type": "text"
      },
      "source": [
        "<a href=\"https://colab.research.google.com/github/SAKETH-ADILLA/Machine-Learning/blob/main/Regression.ipynb\" target=\"_parent\"><img src=\"https://colab.research.google.com/assets/colab-badge.svg\" alt=\"Open In Colab\"/></a>"
      ]
    },
    {
      "cell_type": "code",
      "source": [],
      "metadata": {
        "id": "Yc28Jy9hTMiS"
      },
      "execution_count": null,
      "outputs": []
    },
    {
      "cell_type": "markdown",
      "source": [
        "##Build a Multiple Linear Regression model on a dataset (eg: 50_startups)"
      ],
      "metadata": {
        "id": "Q6sCpsvDWhY-"
      }
    },
    {
      "cell_type": "code",
      "execution_count": 9,
      "metadata": {
        "colab": {
          "base_uri": "https://localhost:8080/"
        },
        "id": "gILNIi81PbgR",
        "outputId": "2a489e7b-1650-4b30-d007-5e0cb1dd1277"
      },
      "outputs": [
        {
          "output_type": "stream",
          "name": "stdout",
          "text": [
            "Multiple Linear Regression Results:\n",
            "Mean Squared Error (MSE): 239539562.2908166\n",
            "R-squared (R²): 0.38538399087029185\n",
            "\n",
            "Model Coefficients:\n",
            "     Feature   Coefficient\n",
            "0  Intercept  54861.320804\n",
            "1  Feature_1   3374.837589\n",
            "2  Feature_2   1414.315140\n",
            "3  Feature_3      0.763218\n",
            "4  Feature_4     -0.045782\n",
            "5  Feature_5      0.029118\n"
          ]
        }
      ],
      "source": [
        "import pandas as pd\n",
        "import numpy as np\n",
        "\n",
        "file_path = 'archive.csv'\n",
        "data = pd.read_csv(file_path)\n",
        "\n",
        "unique_states = data['State'].unique()\n",
        "state_onehot = np.zeros((len(data), len(unique_states) - 1))\n",
        "\n",
        "for idx, state in enumerate(unique_states[1:]):\n",
        "      state_onehot[:, idx] = (data['State'] == state).astype(int)\n",
        "numerical_columns = data.columns.drop('State')\n",
        "data_encoded = np.hstack((state_onehot, data[numerical_columns].values))\n",
        "\n",
        "encoded_column_names = [f'State_{state}' for state in unique_states[1:]]\n",
        "all_column_names = encoded_column_names + list(numerical_columns)\n",
        "\n",
        "data_encoded_df = pd.DataFrame(data_encoded, columns=all_column_names)\n",
        "\n",
        "X = data_encoded_df.drop('Profit', axis=1).values\n",
        "y = data_encoded_df['Profit'].values\n",
        "\n",
        "split_index = int(0.8 * len(X))\n",
        "X_train, X_test = X[:split_index], X[split_index:]\n",
        "y_train, y_test = y[:split_index], y[split_index:]\n",
        "\n",
        "X_train_augmented = np.c_[np.ones(X_train.shape[0]), X_train]\n",
        "X_test_augmented = np.c_[np.ones(X_test.shape[0]), X_test]\n",
        "theta = np.linalg.inv(X_train_augmented.T @ X_train_augmented) @ X_train_augmented.T @ y_train\n",
        "\n",
        "y_pred = X_test_augmented @ theta\n",
        "\n",
        "mse = np.mean((y_test - y_pred) ** 2)\n",
        "r2 = 1 - (np.sum((y_test - y_pred) ** 2) / np.sum((y_test - np.mean(y_test)) ** 2))\n",
        "\n",
        "print(\"Multiple Linear Regression Results:\")\n",
        "print(f\"Mean Squared Error (MSE): {mse}\")\n",
        "print(f\"R-squared (R²): {r2}\")\n",
        "\n",
        "coefficients = pd.DataFrame({\n",
        "    \"Feature\": [\"Intercept\"] + [f\"Feature_{i}\" for i in range(1, X_train_augmented.shape[1])],\n",
        "    \"Coefficient\": theta\n",
        "})\n",
        "print(\"\\nModel Coefficients:\")\n",
        "print(coefficients)\n"
      ]
    },
    {
      "cell_type": "markdown",
      "source": [
        "##Apply L2 regularization on the created simple and multiple linear regression. What is yourobservation?"
      ],
      "metadata": {
        "id": "belUa0SEWabe"
      }
    },
    {
      "cell_type": "code",
      "source": [
        "import numpy as np\n",
        "X_train_np = (X_train - X_train.mean()) / X_train.std()\n",
        "X_test_np = (X_test - X_train.mean()) / X_train.std()\n",
        "X_train_np = np.c_[np.ones(X_train_np.shape[0]), X_train_np]\n",
        "X_test_np = np.c_[np.ones(X_test_np.shape[0]), X_test_np]\n",
        "\n",
        "y_train_np = y_train.values\n",
        "y_test_np = y_test.values\n",
        "lambda_ = 1.0\n",
        "n_features = X_train_np.shape[1]\n",
        "I = np.eye(n_features)\n",
        "I[0, 0] = 0\n",
        "theta_ridge = np.linalg.inv(X_train_np.T.dot(X_train_np) + lambda_ * I).dot(X_train_np.T).dot(y_train_np)\n",
        "y_pred_ridge_np = X_test_np.dot(theta_ridge)\n",
        "mse_ridge = mean_squared_error(y_test_np, y_pred_ridge_np)\n",
        "r2_ridge = r2_score(y_test_np, y_pred_ridge_np)\n",
        "\n",
        "print(\"Ridge Regression Results (Closed-Form Solution):\")\n",
        "print(f\"Mean Squared Error (MSE): {mse_ridge}\")\n",
        "print(f\"R-squared (R²): {r2_ridge}\")\n",
        "print(\"\\nFinal Model Parameters (Theta):\")\n",
        "print(theta_ridge)\n"
      ],
      "metadata": {
        "colab": {
          "base_uri": "https://localhost:8080/"
        },
        "id": "odNs9fDuQFzb",
        "outputId": "34316eb6-399c-4ccc-8e20-1ebe0ca1376b"
      },
      "execution_count": 5,
      "outputs": [
        {
          "output_type": "stream",
          "name": "stdout",
          "text": [
            "Ridge Regression Results (Closed-Form Solution):\n",
            "Mean Squared Error (MSE): 84826956.88045646\n",
            "R-squared (R²): 0.8952484722488928\n",
            "\n",
            "Final Model Parameters (Theta):\n",
            "[ 1.15651720e+05  3.33457929e+02  7.18979529e+01  3.63865634e+04\n",
            " -1.35248792e+03  5.01726242e+03]\n"
          ]
        }
      ]
    },
    {
      "cell_type": "markdown",
      "source": [
        "##Apply L1 regularization on the created simple and multiple linear regression. What is your observation?"
      ],
      "metadata": {
        "id": "d-p2jJHYWP6z"
      }
    },
    {
      "cell_type": "code",
      "source": [
        "import numpy as np\n",
        "import pandas as pd\n",
        "def lasso_regression(X, y, lambda_=1.0, max_iter=1000, tol=1e-4):\n",
        "    m, n = X.shape\n",
        "    theta = np.zeros(n)\n",
        "    X_transpose = X.T\n",
        "    prev_theta = np.copy(theta)\n",
        "\n",
        "    for _ in range(max_iter):\n",
        "\n",
        "        for j in range(n):\n",
        "            X_j = X[:, j]\n",
        "            residual = y - X.dot(theta) + theta[j] * X_j\n",
        "\n",
        "            if j == 0:\n",
        "                theta[j] = np.dot(X_j, residual) / np.dot(X_j, X_j)\n",
        "            else:\n",
        "                theta[j] = np.sign(np.dot(X_j, residual)) * max(0, (np.dot(X_j, residual) - lambda_) / np.dot(X_j, X_j))\n",
        "\n",
        "        if np.linalg.norm(theta - prev_theta, ord=2) < tol:\n",
        "            break\n",
        "        prev_theta = np.copy(theta)\n",
        "\n",
        "    return theta\n",
        "\n",
        "\n",
        "def simple_lasso(X_train, y_train, X_test, y_test, lambda_=1.0):\n",
        "    X_train = np.c_[np.ones(X_train.shape[0]), X_train]\n",
        "    X_test = np.c_[np.ones(X_test.shape[0]), X_test]\n",
        "    theta = lasso_regression(X_train, y_train, lambda_)\n",
        "\n",
        "    y_pred = X_test.dot(theta)\n",
        "    mse = np.mean((y_test - y_pred) ** 2)\n",
        "    ss_tot = np.sum((y_test - np.mean(y_test)) ** 2)\n",
        "    ss_res = np.sum((y_test - y_pred) ** 2)\n",
        "    r2 = 1 - (ss_res / ss_tot)\n",
        "\n",
        "    return theta, mse, r2\n",
        "def multiple_lasso(X_train, y_train, X_test, y_test, lambda_=1.0):\n",
        "    X_train = np.c_[np.ones(X_train.shape[0]), X_train]\n",
        "    X_test = np.c_[np.ones(X_test.shape[0]), X_test]\n",
        "\n",
        "    theta = lasso_regression(X_train, y_train, lambda_)\n",
        "\n",
        "    y_pred = X_test.dot(theta)\n",
        "\n",
        "    mse = np.mean((y_test - y_pred) ** 2)\n",
        "    ss_tot = np.sum((y_test - np.mean(y_test)) ** 2)\n",
        "    ss_res = np.sum((y_test - y_pred) ** 2)\n",
        "    r2 = 1 - (ss_res / ss_tot)\n",
        "\n",
        "    return theta, mse, r2\n",
        "\n",
        "X_train_simple = np.array([1, 2, 3, 4, 5])\n",
        "y_train_simple = np.array([1, 2, 1.5, 3.5, 5])\n",
        "X_test_simple = np.array([6, 7, 8])\n",
        "y_test_simple = np.array([5, 6, 7])\n",
        "\n",
        "theta_simple, mse_simple, r2_simple = simple_lasso(X_train_simple, y_train_simple, X_test_simple, y_test_simple, lambda_=1.0)\n",
        "print(\"Simple Lasso Regression Results:\")\n",
        "print(f\"Model Coefficients (Theta): {theta_simple}\")\n",
        "print(f\"Mean Squared Error (MSE): {mse_simple}\")\n",
        "print(f\"R-squared (R²): {r2_simple}\")\n",
        "\n",
        "X_train_multiple = np.array([[1, 2], [2, 3], [3, 4], [4, 5], [5, 6]])\n",
        "y_train_multiple = np.array([5, 7, 8, 10, 12])\n",
        "X_test_multiple = np.array([[6, 7], [7, 8], [8, 9]])\n",
        "y_test_multiple = np.array([14, 16, 18])\n",
        "\n",
        "theta_multiple, mse_multiple, r2_multiple = multiple_lasso(X_train_multiple, y_train_multiple, X_test_multiple, y_test_multiple, lambda_=1.0)\n",
        "print(\"Multiple Lasso Regression Results:\")\n",
        "print(f\"Model Coefficients (Theta): {theta_multiple}\")\n",
        "print(f\"Mean Squared Error (MSE): {mse_multiple}\")\n",
        "print(f\"R-squared (R²): {r2_multiple}\")\n"
      ],
      "metadata": {
        "colab": {
          "base_uri": "https://localhost:8080/"
        },
        "id": "nrQjFtdqVke2",
        "outputId": "3596cb97-9fa5-48cf-da58-2614eb10ea17"
      },
      "execution_count": 11,
      "outputs": [
        {
          "output_type": "stream",
          "name": "stdout",
          "text": [
            "Simple Lasso Regression Results:\n",
            "Model Coefficients (Theta): [0.05037319 0.84989822]\n",
            "Mean Squared Error (MSE): 0.01502047794024052\n",
            "R-squared (R²): 0.9774692830896392\n",
            "Multiple Lasso Regression Results:\n",
            "Model Coefficients (Theta): [3.60038475 1.59989507 0.        ]\n",
            "Mean Squared Error (MSE): 1.5475622235014512\n",
            "R-squared (R²): 0.4196641661869558\n"
          ]
        }
      ]
    }
  ]
}