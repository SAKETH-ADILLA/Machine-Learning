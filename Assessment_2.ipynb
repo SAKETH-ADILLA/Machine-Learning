{
  "cells": [
    {
      "cell_type": "markdown",
      "metadata": {
        "id": "view-in-github",
        "colab_type": "text"
      },
      "source": [
        "<a href=\"https://colab.research.google.com/github/SAKETH-ADILLA/Machine-Learning/blob/main/Assessment_2.ipynb\" target=\"_parent\"><img src=\"https://colab.research.google.com/assets/colab-badge.svg\" alt=\"Open In Colab\"/></a>"
      ]
    },
    {
      "cell_type": "markdown",
      "metadata": {
        "id": "vND-9AhxDx7w"
      },
      "source": [
        "\n",
        "\n",
        "```\n",
        "# This is formatted as code\n",
        "```\n",
        "\n",
        "##1.Create a Pandas DataFrame from the following dictionary:\n",
        "data = {\n",
        "'Name': ['Alice', 'Bob', 'Carol'],\n",
        "'Age': [24, 27, 22],\n",
        "'Salary': [50000, 55000, 48000]"
      ]
    },
    {
      "cell_type": "code",
      "execution_count": null,
      "metadata": {
        "colab": {
          "base_uri": "https://localhost:8080/"
        },
        "id": "_Zi-0ivAC_O2",
        "outputId": "81cc3f73-b623-4610-b5b3-e1999f2cdd5e"
      },
      "outputs": [
        {
          "name": "stdout",
          "output_type": "stream",
          "text": [
            "     Name  Age  Salary\n",
            "0   Eswar   24   50000\n",
            "1     Ram   27   55000\n",
            "2  Venkat   22   48000\n"
          ]
        }
      ],
      "source": [
        "import pandas as pd\n",
        "data = {\n",
        "    'Name': ['Eswar', 'Ram', 'Venkat'],\n",
        "    'Age': [24, 27, 22],\n",
        "    'Salary': [50000, 55000, 48000]\n",
        "}\n",
        "df = pd.DataFrame(data)\n",
        "print(df)\n"
      ]
    },
    {
      "cell_type": "markdown",
      "metadata": {
        "id": "exKVB1WuEOby"
      },
      "source": [
        "## 1.Add a new column called Bonus which is 10% of the salary.\n"
      ]
    },
    {
      "cell_type": "code",
      "execution_count": null,
      "metadata": {
        "colab": {
          "background_save": true,
          "base_uri": "https://localhost:8080/"
        },
        "id": "StgtMSZ8EUvM",
        "outputId": "0dde8200-f8c2-41a2-db73-964fd22e5823"
      },
      "outputs": [
        {
          "name": "stdout",
          "output_type": "stream",
          "text": [
            "    Name  Age  Salary   Bonus\n",
            "0  Eswar   24   50000  5000.0\n",
            "1    Ram   27   55000  5500.0\n",
            "2   Ramu   22   48000  4800.0\n"
          ]
        }
      ],
      "source": [
        "import pandas as pd\n",
        "data = {\n",
        "    'Name': ['Eswar', 'Ram', 'Ramu'],\n",
        "    'Age': [24, 27, 22],\n",
        "    'Salary': [50000, 55000, 48000]\n",
        "}\n",
        "df = pd.DataFrame(data)\n",
        "df['Bonus'] = df['Salary'] * 0.10\n",
        "print(df)\n"
      ]
    },
    {
      "cell_type": "markdown",
      "metadata": {
        "id": "A0wHHkZyEnCO"
      },
      "source": [
        "## 2.Given the DataFrame created in the above question:\n",
        "• Display the first two rows.\n",
        "• Compute the mean salary."
      ]
    },
    {
      "cell_type": "code",
      "execution_count": null,
      "metadata": {
        "colab": {
          "base_uri": "https://localhost:8080/"
        },
        "id": "drKN7jfKEtUU",
        "outputId": "1807a9b5-b038-4a74-af29-7fe76d38423a"
      },
      "outputs": [
        {
          "name": "stdout",
          "output_type": "stream",
          "text": [
            "First two rows:\n",
            "    Name  Age  Salary   Bonus\n",
            "0  Eswar   24   50000  5000.0\n",
            "1    Ram   27   55000  5500.0\n",
            "\n",
            "Mean Salary: 51000.0\n"
          ]
        }
      ],
      "source": [
        "import pandas as pd\n",
        "data = {\n",
        "    'Name': ['Eswar', 'Ram', 'Ramu'],\n",
        "    'Age': [24, 27, 22],\n",
        "    'Salary': [50000, 55000, 48000]\n",
        "}\n",
        "df = pd.DataFrame(data)\n",
        "df['Bonus'] = df['Salary'] * 0.10\n",
        "print(\"First two rows:\")\n",
        "print(df.head(2))\n",
        "mean_salary = df['Salary'].mean()\n",
        "print(\"\\nMean Salary:\", mean_salary)\n"
      ]
    },
    {
      "cell_type": "markdown",
      "metadata": {
        "id": "KC_BQuhwFFe0"
      },
      "source": [
        "## 3.Using the same DataFrame:\n",
        "• Extract all rows where the Age is greater than 25.\n",
        "• Filter out rows where the Salary is less than 50000."
      ]
    },
    {
      "cell_type": "code",
      "execution_count": null,
      "metadata": {
        "colab": {
          "base_uri": "https://localhost:8080/"
        },
        "id": "e_VM7OfTFLpc",
        "outputId": "6ec8ec71-a9d3-4c9c-c0ad-be59f78a5c01"
      },
      "outputs": [
        {
          "name": "stdout",
          "output_type": "stream",
          "text": [
            "Rows where Age is greater than 25:\n",
            "  Name  Age  Salary   Bonus\n",
            "1  Ram   27   55000  5500.0\n",
            "\n",
            "Rows where Salary is greater than or equal to 50000:\n",
            "    Name  Age  Salary   Bonus\n",
            "0  Eswar   24   50000  5000.0\n",
            "1    Ram   27   55000  5500.0\n"
          ]
        }
      ],
      "source": [
        "import pandas as pd\n",
        "data = {\n",
        "    'Name': ['Eswar', 'Ram', 'Mohan'],\n",
        "    'Age': [24, 27, 22],\n",
        "    'Salary': [50000, 55000, 48000]\n",
        "}\n",
        "df = pd.DataFrame(data)\n",
        "df['Bonus'] = df['Salary'] * 0.10\n",
        "age = df[df['Age'] > 25]\n",
        "salary = df[df['Salary'] >= 50000]\n",
        "print(\"Rows where Age is greater than 25:\")\n",
        "print(age)\n",
        "print(\"\\nRows where Salary is greater than or equal to 50000:\")\n",
        "print(salary)\n"
      ]
    },
    {
      "cell_type": "markdown",
      "metadata": {
        "id": "KTGD-Kh7HJX_"
      },
      "source": [
        "##5.Create a DataFrame for employees:\n",
        "data = {\n",
        "'Department': ['HR', 'HR', 'IT', 'IT', 'Finance'],\n",
        "'Employee': ['Alice', 'Bob', 'Carol', 'David', 'Eve'],\n",
        "'Salary': [50000, 45000, 60000, 65000, 70000]\n",
        "}\n",
        "• Group the data by Department and compute the total and mean salary for each\n",
        "department."
      ]
    },
    {
      "cell_type": "code",
      "execution_count": null,
      "metadata": {
        "colab": {
          "base_uri": "https://localhost:8080/"
        },
        "id": "ASGGDPuxHOlv",
        "outputId": "e24b6a7f-705e-4ace-a731-e71e15879b83"
      },
      "outputs": [
        {
          "name": "stdout",
          "output_type": "stream",
          "text": [
            "               sum     mean\n",
            "Department                 \n",
            "Finance      70000  70000.0\n",
            "HR           95000  47500.0\n",
            "IT          125000  62500.0\n"
          ]
        }
      ],
      "source": [
        "import pandas as pd\n",
        "data = {\n",
        "    'Department': ['HR', 'HR', 'IT', 'IT', 'Finance'],\n",
        "    'Employee': ['Ram', 'Mohan', 'Kalyan', 'Naveen', 'Mohit'],\n",
        "    'Salary': [50000, 45000, 60000, 65000, 70000]\n",
        "}\n",
        "df = pd.DataFrame(data)\n",
        "salary = df.groupby('Department')['Salary'].agg(['sum', 'mean'])\n",
        "print(salary)\n"
      ]
    },
    {
      "cell_type": "markdown",
      "metadata": {
        "id": "sDgStYQtIx34"
      },
      "source": [
        "##7.Given a small dataset, clean and display basic statistics using Pandas.\n"
      ]
    },
    {
      "cell_type": "code",
      "execution_count": null,
      "metadata": {
        "colab": {
          "base_uri": "https://localhost:8080/"
        },
        "id": "JGJmemaZJUQA",
        "outputId": "03d8c4ee-4bb5-49f1-c6a6-55db8c59caf6"
      },
      "outputs": [
        {
          "name": "stdout",
          "output_type": "stream",
          "text": [
            "Original DataFrame:\n",
            "      Name   Age   Salary Department\n",
            "0      Ram  25.0  50000.0         HR\n",
            "1    Mohan  30.0  55000.0         IT\n",
            "2   Venkat  22.0      NaN    Finance\n",
            "3    Vijay   NaN  60000.0         HR\n",
            "4  Santosh  29.0  45000.0    Finance\n",
            "5     Teja  35.0  70000.0         IT\n",
            "6    Eswar  25.0  50000.0         HR\n"
          ]
        }
      ],
      "source": [
        "import pandas as pd\n",
        "import numpy as np\n",
        "data = {\n",
        "    'Name': ['Ram', 'Mohan', 'Venkat', 'Vijay', 'Santosh', 'Teja', 'Eswar'],\n",
        "    'Age': [25, 30, 22, np.nan, 29, 35, 25],\n",
        "    'Salary': [50000, 55000, np.nan, 60000, 45000, 70000, 50000],\n",
        "    'Department': ['HR', 'IT', 'Finance', 'HR', 'Finance', 'IT', 'HR']\n",
        "}\n",
        "df = pd.DataFrame(data)\n",
        "print(\"Original DataFrame:\")\n",
        "print(df)\n"
      ]
    },
    {
      "cell_type": "markdown",
      "metadata": {
        "id": "L00CHlwfLjzu"
      },
      "source": [
        "## 8.small EDA task\n",
        "• Load the Titanic dataset (titanic.csv) into a Pandas DataFrame.\n",
        "• Perform the following tasks:\n",
        "o Display the number of missing values in each column.\n",
        "o Find the average age of passengers.\n",
        "o Create a bar plot to show the survival rate based on gender."
      ]
    },
    {
      "cell_type": "code",
      "execution_count": 3,
      "metadata": {
        "colab": {
          "base_uri": "https://localhost:8080/",
          "height": 1000
        },
        "id": "fYNyu3gpLqlV",
        "outputId": "fa956733-b74b-4289-9959-8afdf8cdc94b"
      },
      "outputs": [
        {
          "output_type": "stream",
          "name": "stdout",
          "text": [
            "First few rows of the Titanic dataset:\n",
            "   PassengerId  Survived  Pclass  \\\n",
            "0            1         0       3   \n",
            "1            2         1       1   \n",
            "2            3         1       3   \n",
            "3            4         1       1   \n",
            "4            5         0       3   \n",
            "\n",
            "                                                Name     Sex   Age  SibSp  \\\n",
            "0                            Braund, Mr. Owen Harris    male  22.0      1   \n",
            "1  Cumings, Mrs. John Bradley (Florence Briggs Th...  female  38.0      1   \n",
            "2                             Heikkinen, Miss. Laina  female  26.0      0   \n",
            "3       Futrelle, Mrs. Jacques Heath (Lily May Peel)  female  35.0      1   \n",
            "4                           Allen, Mr. William Henry    male  35.0      0   \n",
            "\n",
            "   Parch            Ticket     Fare Cabin Embarked  \n",
            "0      0         A/5 21171   7.2500   NaN        S  \n",
            "1      0          PC 17599  71.2833   C85        C  \n",
            "2      0  STON/O2. 3101282   7.9250   NaN        S  \n",
            "3      0            113803  53.1000  C123        S  \n",
            "4      0            373450   8.0500   NaN        S  \n",
            "\n",
            "Number of missing values in each column:\n",
            "PassengerId      0\n",
            "Survived         0\n",
            "Pclass           0\n",
            "Name             0\n",
            "Sex              0\n",
            "Age            177\n",
            "SibSp            0\n",
            "Parch            0\n",
            "Ticket           0\n",
            "Fare             0\n",
            "Cabin          687\n",
            "Embarked         2\n",
            "dtype: int64\n",
            "\n",
            "Average Age of Passengers: 29.70\n"
          ]
        },
        {
          "output_type": "display_data",
          "data": {
            "text/plain": [
              "<Figure size 800x600 with 1 Axes>"
            ],
            "image/png": "[encoded data removed]"
          },
          "metadata": {}
        }
      ],
      "source": [
        "import pandas as pd\n",
        "import matplotlib.pyplot as plt\n",
        "import seaborn as sns\n",
        "df = pd.read_csv('Titanic-Dataset.csv')\n",
        "print(\"First few rows of the Titanic dataset:\")\n",
        "print(df.head())\n",
        "print(\"\\nNumber of missing values in each column:\")\n",
        "print(df.isnull().sum())\n",
        "average_age = df['Age'].mean()\n",
        "print(f\"\\nAverage Age of Passengers: {average_age:.2f}\")\n",
        "plt.figure(figsize=(8,6))\n",
        "sns.barplot(x='Sex', y='Survived', data=df, estimator=lambda x: x.mean())\n",
        "plt.title('Survival Rate Based on Gender')\n",
        "plt.ylabel('Survival Rate')\n",
        "plt.xlabel('Gender')\n",
        "plt.show()\n"
      ]
    },
    {
      "cell_type": "markdown",
      "source": [
        "## 4.Create the following DataFrame:\n",
        "data = {\n",
        "'A': [1, 2, None, 4],\n",
        "'B': [None, 2, 3, None],\n",
        "'C': [1, 2, 3, 4]\n",
        "}\n",
        "df = pd.DataFrame(data)\n",
        "• Fill missing values in column A with the mean of the column.\n",
        "• Drop rows where all values are None."
      ],
      "metadata": {
        "id": "aezEIZMsDnr4"
      }
    },
    {
      "cell_type": "code",
      "source": [
        "data = { 'A': [1, 2, None, 4],\n",
        "        'B': [None, 2, 3, None],\n",
        "        'C': [1, 2, 3, 4] }\n",
        "df = pd.DataFrame(data)\n",
        "df['A'] = df['A'].fillna(df['A'].mean())\n",
        "df = df.dropna(how='all')\n",
        "print(df)\n"
      ],
      "metadata": {
        "colab": {
          "base_uri": "https://localhost:8080/"
        },
        "id": "kFUw1tYdEQ27",
        "outputId": "184f6d03-71e5-4a37-d079-0463e3a9fe48"
      },
      "execution_count": 4,
      "outputs": [
        {
          "output_type": "stream",
          "name": "stdout",
          "text": [
            "          A    B  C\n",
            "0  1.000000  NaN  1\n",
            "1  2.000000  2.0  2\n",
            "2  2.333333  3.0  3\n",
            "3  4.000000  NaN  4\n"
          ]
        }
      ]
    },
    {
      "cell_type": "markdown",
      "source": [
        "## 6.Given two DataFrames:\n",
        "df1 = pd.DataFrame({'ID': [1, 2, 3], 'Name': ['Alice', 'Bob', 'Carol']})\n",
        "df2 = pd.DataFrame({'ID': [2, 3, 4], 'Age': [25, 30, 22]})\n",
        "• Perform an inner join on the ID column."
      ],
      "metadata": {
        "id": "yCrlqFiMEyUe"
      }
    },
    {
      "cell_type": "code",
      "source": [
        "import pandas as pd\n",
        "\n",
        "df1 = pd.DataFrame({'ID': [1, 2, 3], 'Name': ['Alice', 'Bob', 'Carol']})\n",
        "df2 = pd.DataFrame({'ID': [2, 3, 4], 'Age': [25, 30, 22]})\n",
        "\n",
        "result = pd.merge(df1, df2, on='ID', how='inner')\n",
        "\n",
        "print(result)"
      ],
      "metadata": {
        "colab": {
          "base_uri": "https://localhost:8080/"
        },
        "id": "OCYDAHNmEz-3",
        "outputId": "cb7446a9-8d8f-4428-fbcf-7616a1425680"
      },
      "execution_count": 5,
      "outputs": [
        {
          "output_type": "stream",
          "name": "stdout",
          "text": [
            "   ID   Name  Age\n",
            "0   2    Bob   25\n",
            "1   3  Carol   30\n"
          ]
        }
      ]
    },
    {
      "cell_type": "markdown",
      "source": [
        "## 9.Data Transformation\n",
        "• Load a dataset containing daily temperatures and dates. Perform the following:\n",
        "o Convert the date column into a DateTime object.\n",
        "o Create a new column that categorizes temperatures into High, Medium, or"
      ],
      "metadata": {
        "id": "yUZPyvW3FGrV"
      }
    },
    {
      "cell_type": "code",
      "source": [
        "data = {\n",
        "    'Date': ['2024-12-20', '2024-12-21', '2024-12-22'],\n",
        "    'Temperature': [32, 28, 22]\n",
        "}\n",
        "\n",
        "df5 = pd.DataFrame(data)\n",
        "df5['Date'] = pd.to_datetime(df5['Date'])\n",
        "def categorize_temp(temp):\n",
        "    if temp > 30:\n",
        "        return 'High'\n",
        "    elif temp > 20:\n",
        "        return 'Medium'\n",
        "    else:\n",
        "        return 'Low'\n",
        "\n",
        "df5['Category'] = df5['Temperature'].apply(categorize_temp)\n",
        "print(df5)"
      ],
      "metadata": {
        "colab": {
          "base_uri": "https://localhost:8080/"
        },
        "id": "5VTOjqtGFN4R",
        "outputId": "99d39079-ef47-4a6c-c32c-0b6afa4f5fbd"
      },
      "execution_count": 6,
      "outputs": [
        {
          "output_type": "stream",
          "name": "stdout",
          "text": [
            "        Date  Temperature Category\n",
            "0 2024-12-20           32     High\n",
            "1 2024-12-21           28   Medium\n",
            "2 2024-12-22           22   Medium\n"
          ]
        }
      ]
    }
  ],
  "metadata": {
    "colab": {
      "provenance": [],
      "authorship_tag": "ABX9TyPHJ1MZ8weFDO3/ObKwWDDl",
      "include_colab_link": true
    },
    "kernelspec": {
      "display_name": "Python 3",
      "name": "python3"
    },
    "language_info": {
      "name": "python"
    }
  },
  "nbformat": 4,
  "nbformat_minor": 0
}