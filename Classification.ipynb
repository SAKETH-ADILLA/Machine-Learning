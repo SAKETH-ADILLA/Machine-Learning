{
  "nbformat": 4,
  "nbformat_minor": 0,
  "metadata": {
    "colab": {
      "provenance": [],
      "authorship_tag": "ABX9TyPVF21qQI4Gv57/yz+68EQK",
      "include_colab_link": true
    },
    "kernelspec": {
      "name": "python3",
      "display_name": "Python 3"
    },
    "language_info": {
      "name": "python"
    }
  },
  "cells": [
    {
      "cell_type": "markdown",
      "metadata": {
        "id": "view-in-github",
        "colab_type": "text"
      },
      "source": [
        "<a href=\"https://colab.research.google.com/github/SAKETH-ADILLA/Machine-Learning/blob/main/Classification.ipynb\" target=\"_parent\"><img src=\"https://colab.research.google.com/assets/colab-badge.svg\" alt=\"Open In Colab\"/></a>"
      ]
    },
    {
      "cell_type": "markdown",
      "source": [
        "# Import Libraries\n",
        "These libraries are used for data handling, preprocessing, modeling, and evaluation."
      ],
      "metadata": {
        "id": "HKbMLcKFRG9F"
      }
    },
    {
      "cell_type": "code",
      "execution_count": null,
      "metadata": {
        "id": "9mAy4nESK5IP"
      },
      "outputs": [],
      "source": [
        "import pandas as pd\n",
        "import numpy as np\n",
        "from sklearn.model_selection import train_test_split\n",
        "from sklearn.preprocessing import StandardScaler, LabelEncoder\n",
        "from sklearn.metrics import accuracy_score, precision_score, recall_score, f1_score, classification_report\n",
        "from sklearn.linear_model import LogisticRegression\n",
        "from sklearn.naive_bayes import GaussianNB\n",
        "from sklearn.neighbors import KNeighborsClassifier\n",
        "from sklearn.tree import DecisionTreeClassifier\n",
        "from sklearn.svm import SVC\n"
      ]
    },
    {
      "cell_type": "markdown",
      "source": [
        "#Load and Analyze the Dataset\n",
        "This part loads the dataset and provides an overview of its structure and contents"
      ],
      "metadata": {
        "id": "vbkKj3lARNPD"
      }
    },
    {
      "cell_type": "code",
      "source": [
        "data_path = '/content/amazon_delivery.csv'\n",
        "df = pd.read_csv(data_path)\n",
        "\n",
        "print(\"Dataset Head:\\n\", df.head())\n",
        "print(\"\\nDataset Info:\\n\")\n",
        "df.info()\n",
        "print(\"\\nMissing Values:\\n\", df.isnull().sum())\n",
        "print(\"\\nClass Distribution:\\n\", df.iloc[:, -1].value_counts())\n"
      ],
      "metadata": {
        "colab": {
          "base_uri": "https://localhost:8080/"
        },
        "id": "hDyvQG5lRUVB",
        "outputId": "4566417c-635a-4f36-afb5-51536f9fa97b"
      },
      "execution_count": null,
      "outputs": [
        {
          "output_type": "stream",
          "name": "stdout",
          "text": [
            "Dataset Head:\n",
            "         Order_ID  Agent_Age  Agent_Rating  Store_Latitude  Store_Longitude  \\\n",
            "0  ialx566343618       37.0           4.9       22.745049        75.892471   \n",
            "1  akqg208421122       34.0           4.5       12.913041        77.683237   \n",
            "2  njpu434582536       23.0           4.4       12.914264        77.678400   \n",
            "3  rjto796129700       38.0           4.7       11.003669        76.976494   \n",
            "4  zguw716275638       32.0           4.6       12.972793        80.249982   \n",
            "\n",
            "   Drop_Latitude  Drop_Longitude  Order_Date Order_Time Pickup_Time  \\\n",
            "0      22.765049       75.912471  2022-03-19   11:30:00    11:45:00   \n",
            "1      13.043041       77.813237  2022-03-25   19:45:00    19:50:00   \n",
            "2      12.924264       77.688400  2022-03-19   08:30:00    08:45:00   \n",
            "3      11.053669       77.026494  2022-04-05   18:00:00    18:10:00   \n",
            "4      13.012793       80.289982  2022-03-26   13:30:00    13:45:00   \n",
            "\n",
            "      Weather  Traffic      Vehicle            Area  Delivery_Time  \\\n",
            "0       Sunny    High   motorcycle           Urban           120.0   \n",
            "1      Stormy     Jam      scooter   Metropolitian           165.0   \n",
            "2  Sandstorms     Low   motorcycle           Urban           130.0   \n",
            "3       Sunny  Medium   motorcycle   Metropolitian           105.0   \n",
            "4      Cloudy    High      scooter   Metropolitian           150.0   \n",
            "\n",
            "      Category  \n",
            "0     Clothing  \n",
            "1  Electronics  \n",
            "2       Sports  \n",
            "3    Cosmetics  \n",
            "4         Toys  \n",
            "\n",
            "Dataset Info:\n",
            "\n",
            "<class 'pandas.core.frame.DataFrame'>\n",
            "RangeIndex: 15357 entries, 0 to 15356\n",
            "Data columns (total 16 columns):\n",
            " #   Column           Non-Null Count  Dtype  \n",
            "---  ------           --------------  -----  \n",
            " 0   Order_ID         15357 non-null  object \n",
            " 1   Agent_Age        15356 non-null  float64\n",
            " 2   Agent_Rating     15338 non-null  float64\n",
            " 3   Store_Latitude   15356 non-null  float64\n",
            " 4   Store_Longitude  15356 non-null  float64\n",
            " 5   Drop_Latitude    15356 non-null  float64\n",
            " 6   Drop_Longitude   15356 non-null  float64\n",
            " 7   Order_Date       15356 non-null  object \n",
            " 8   Order_Time       15356 non-null  object \n",
            " 9   Pickup_Time      15356 non-null  object \n",
            " 10  Weather          15328 non-null  object \n",
            " 11  Traffic          15356 non-null  object \n",
            " 12  Vehicle          15356 non-null  object \n",
            " 13  Area             15356 non-null  object \n",
            " 14  Delivery_Time    15356 non-null  float64\n",
            " 15  Category         15356 non-null  object \n",
            "dtypes: float64(7), object(9)\n",
            "memory usage: 1.9+ MB\n",
            "\n",
            "Missing Values:\n",
            " Order_ID            0\n",
            "Agent_Age           1\n",
            "Agent_Rating       19\n",
            "Store_Latitude      1\n",
            "Store_Longitude     1\n",
            "Drop_Latitude       1\n",
            "Drop_Longitude      1\n",
            "Order_Date          1\n",
            "Order_Time          1\n",
            "Pickup_Time         1\n",
            "Weather            29\n",
            "Traffic             1\n",
            "Vehicle             1\n",
            "Area                1\n",
            "Delivery_Time       1\n",
            "Category            1\n",
            "dtype: int64\n",
            "\n",
            "Class Distribution:\n",
            " Category\n",
            "Electronics     1026\n",
            "Toys            1012\n",
            "Sports           983\n",
            "Snacks           968\n",
            "Clothing         965\n",
            "Cosmetics        965\n",
            "Apparel          963\n",
            "Books            963\n",
            "Jewelry          959\n",
            "Skincare         958\n",
            "Outdoors         951\n",
            "Grocery          950\n",
            "Pet Supplies     930\n",
            "Kitchen          926\n",
            "Shoes            920\n",
            "Home             917\n",
            "Name: count, dtype: int64\n"
          ]
        }
      ]
    },
    {
      "cell_type": "markdown",
      "source": [
        "#Data Preprocessing\n",
        "This section handles missing values, encodes categorical features, scales numerical features, and splits the data."
      ],
      "metadata": {
        "id": "5q4wM1gqRa84"
      }
    },
    {
      "cell_type": "code",
      "source": [
        "df.fillna(df.median(numeric_only=True), inplace=True)\n",
        "df.fillna(df.mode().iloc[0], inplace=True)\n",
        "label_encoders = {}\n",
        "for col in df.select_dtypes(include='object').columns:\n",
        "    le = LabelEncoder()\n",
        "    df[col] = le.fit_transform(df[col])\n",
        "    label_encoders[col] = le\n",
        "X = df.iloc[:, :-1]\n",
        "y = df.iloc[:, -1]\n",
        "scaler = StandardScaler()\n",
        "X = scaler.fit_transform(X)\n",
        "X_train, X_test, y_train, y_test = train_test_split(X, y, test_size=0.2, random_state=42)\n"
      ],
      "metadata": {
        "id": "eloH0o3yReg7"
      },
      "execution_count": null,
      "outputs": []
    },
    {
      "cell_type": "markdown",
      "source": [
        "#Train Models\n",
        "This part defines multiple machine learning models and trains them on the dataset"
      ],
      "metadata": {
        "id": "PAn9aYhwRsAh"
      }
    },
    {
      "cell_type": "code",
      "source": [
        "models={\n",
        "    \"Logistic Regression\": LogisticRegression(),\n",
        "    \"Naive Bayes\": GaussianNB(),\n",
        "    \"KNN\": KNeighborsClassifier(),\n",
        "    \"Decision Tree\": DecisionTreeClassifier(),\n",
        "    \"SVC\": SVC()\n",
        "}\n",
        "results={}\n",
        "for model_name, model in models.items():\n",
        "    model.fit(X_train, y_train)\n",
        "    y_pred = model.predict(X_test)\n",
        "    accuracy = accuracy_score(y_test, y_pred)\n",
        "    precision = precision_score(y_test, y_pred, average='weighted')\n",
        "    recall = recall_score(y_test, y_pred, average='weighted')\n",
        "    f1 = f1_score(y_test, y_pred, average='weighted')\n",
        "    results[model_name]={\n",
        "        \"Accuracy\": accuracy,\n",
        "        \"Precision\": precision,\n",
        "        \"Recall\": recall,\n",
        "        \"F1-Score\": f1\n",
        "    }\n"
      ],
      "metadata": {
        "id": "TmiUeeRVRyaF",
        "colab": {
          "base_uri": "https://localhost:8080/"
        },
        "outputId": "bcfef004-c12b-4946-a89c-25b0a624bd55"
      },
      "execution_count": null,
      "outputs": [
        {
          "output_type": "stream",
          "name": "stderr",
          "text": [
            "/usr/local/lib/python3.10/dist-packages/sklearn/metrics/_classification.py:1565: UndefinedMetricWarning: Precision is ill-defined and being set to 0.0 in labels with no predicted samples. Use `zero_division` parameter to control this behavior.\n",
            "  _warn_prf(average, modifier, f\"{metric.capitalize()} is\", len(result))\n"
          ]
        }
      ]
    },
    {
      "cell_type": "markdown",
      "source": [
        "#Results\n",
        "This part displays the performance metrics for each model in a readable format."
      ],
      "metadata": {
        "id": "4I6qm1xOSA7h"
      }
    },
    {
      "cell_type": "code",
      "source": [
        "print(\"\\nPerformance Metrics:\\n\")\n",
        "for model_name, metrics in results.items():\n",
        "    print(f\"{model_name}:\\n\")\n",
        "    for metric, value in metrics.items():\n",
        "        print(f\"  {metric}: {value:.4f}\")\n",
        "    print(\"\\n\")"
      ],
      "metadata": {
        "colab": {
          "base_uri": "https://localhost:8080/"
        },
        "id": "EC7ZYHGsR9fu",
        "outputId": "aba86767-6ca9-462c-85be-33e8cde2875d"
      },
      "execution_count": null,
      "outputs": [
        {
          "output_type": "stream",
          "name": "stdout",
          "text": [
            "\n",
            "Performance Metrics:\n",
            "\n",
            "Logistic Regression:\n",
            "\n",
            "  Accuracy: 0.1214\n",
            "  Precision: 0.1147\n",
            "  Recall: 0.1214\n",
            "  F1-Score: 0.1126\n",
            "\n",
            "\n",
            "Naive Bayes:\n",
            "\n",
            "  Accuracy: 0.1279\n",
            "  Precision: 0.1058\n",
            "  Recall: 0.1279\n",
            "  F1-Score: 0.1077\n",
            "\n",
            "\n",
            "KNN:\n",
            "\n",
            "  Accuracy: 0.1084\n",
            "  Precision: 0.1275\n",
            "  Recall: 0.1084\n",
            "  F1-Score: 0.1105\n",
            "\n",
            "\n",
            "Decision Tree:\n",
            "\n",
            "  Accuracy: 0.1289\n",
            "  Precision: 0.1302\n",
            "  Recall: 0.1289\n",
            "  F1-Score: 0.1294\n",
            "\n",
            "\n",
            "SVC:\n",
            "\n",
            "  Accuracy: 0.1335\n",
            "  Precision: 0.1306\n",
            "  Recall: 0.1335\n",
            "  F1-Score: 0.1291\n",
            "\n",
            "\n"
          ]
        }
      ]
    }
  ]
}